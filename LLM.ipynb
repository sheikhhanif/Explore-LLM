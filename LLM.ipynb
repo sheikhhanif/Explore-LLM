{
  "nbformat": 4,
  "nbformat_minor": 0,
  "metadata": {
    "colab": {
      "provenance": [],
      "gpuType": "T4",
      "authorship_tag": "ABX9TyNbQp3BHLRbisPW6auFC3FH",
      "include_colab_link": true
    },
    "kernelspec": {
      "name": "python3",
      "display_name": "Python 3"
    },
    "language_info": {
      "name": "python"
    },
    "accelerator": "GPU",
    "widgets": {
      "application/vnd.jupyter.widget-state+json": {
        "1ed3bcc94e53420f8bb8e5d8920e9629": {
          "model_module": "@jupyter-widgets/controls",
          "model_name": "HBoxModel",
          "model_module_version": "1.5.0",
          "state": {
            "_dom_classes": [],
            "_model_module": "@jupyter-widgets/controls",
            "_model_module_version": "1.5.0",
            "_model_name": "HBoxModel",
            "_view_count": null,
            "_view_module": "@jupyter-widgets/controls",
            "_view_module_version": "1.5.0",
            "_view_name": "HBoxView",
            "box_style": "",
            "children": [
              "IPY_MODEL_8afc8cc11e4c4083aa0f4cbc3dc61cbd",
              "IPY_MODEL_369b32b709d443ddadb106177daf1d73",
              "IPY_MODEL_8e69d621f7174a08b62a6d477d78fecf"
            ],
            "layout": "IPY_MODEL_74913222ceb74a9ab8749961da95cb9f"
          }
        },
        "8afc8cc11e4c4083aa0f4cbc3dc61cbd": {
          "model_module": "@jupyter-widgets/controls",
          "model_name": "HTMLModel",
          "model_module_version": "1.5.0",
          "state": {
            "_dom_classes": [],
            "_model_module": "@jupyter-widgets/controls",
            "_model_module_version": "1.5.0",
            "_model_name": "HTMLModel",
            "_view_count": null,
            "_view_module": "@jupyter-widgets/controls",
            "_view_module_version": "1.5.0",
            "_view_name": "HTMLView",
            "description": "",
            "description_tooltip": null,
            "layout": "IPY_MODEL_9f3194b67e614c50b07152926ed1a8c9",
            "placeholder": "​",
            "style": "IPY_MODEL_c682a8c012a34f4b88192b00a912fee1",
            "value": "Fetching 1 files: 100%"
          }
        },
        "369b32b709d443ddadb106177daf1d73": {
          "model_module": "@jupyter-widgets/controls",
          "model_name": "FloatProgressModel",
          "model_module_version": "1.5.0",
          "state": {
            "_dom_classes": [],
            "_model_module": "@jupyter-widgets/controls",
            "_model_module_version": "1.5.0",
            "_model_name": "FloatProgressModel",
            "_view_count": null,
            "_view_module": "@jupyter-widgets/controls",
            "_view_module_version": "1.5.0",
            "_view_name": "ProgressView",
            "bar_style": "success",
            "description": "",
            "description_tooltip": null,
            "layout": "IPY_MODEL_dab2d5463f7f482cadc031774a6559df",
            "max": 1,
            "min": 0,
            "orientation": "horizontal",
            "style": "IPY_MODEL_9722eb2be83c402ebbb9654dfdeb66d1",
            "value": 1
          }
        },
        "8e69d621f7174a08b62a6d477d78fecf": {
          "model_module": "@jupyter-widgets/controls",
          "model_name": "HTMLModel",
          "model_module_version": "1.5.0",
          "state": {
            "_dom_classes": [],
            "_model_module": "@jupyter-widgets/controls",
            "_model_module_version": "1.5.0",
            "_model_name": "HTMLModel",
            "_view_count": null,
            "_view_module": "@jupyter-widgets/controls",
            "_view_module_version": "1.5.0",
            "_view_name": "HTMLView",
            "description": "",
            "description_tooltip": null,
            "layout": "IPY_MODEL_690c1264228c4672b056a2fcd0dfe8e0",
            "placeholder": "​",
            "style": "IPY_MODEL_bb32ad451bfb4b7db4bf14580d492aff",
            "value": " 1/1 [00:00&lt;00:00, 33.18it/s]"
          }
        },
        "74913222ceb74a9ab8749961da95cb9f": {
          "model_module": "@jupyter-widgets/base",
          "model_name": "LayoutModel",
          "model_module_version": "1.2.0",
          "state": {
            "_model_module": "@jupyter-widgets/base",
            "_model_module_version": "1.2.0",
            "_model_name": "LayoutModel",
            "_view_count": null,
            "_view_module": "@jupyter-widgets/base",
            "_view_module_version": "1.2.0",
            "_view_name": "LayoutView",
            "align_content": null,
            "align_items": null,
            "align_self": null,
            "border": null,
            "bottom": null,
            "display": null,
            "flex": null,
            "flex_flow": null,
            "grid_area": null,
            "grid_auto_columns": null,
            "grid_auto_flow": null,
            "grid_auto_rows": null,
            "grid_column": null,
            "grid_gap": null,
            "grid_row": null,
            "grid_template_areas": null,
            "grid_template_columns": null,
            "grid_template_rows": null,
            "height": null,
            "justify_content": null,
            "justify_items": null,
            "left": null,
            "margin": null,
            "max_height": null,
            "max_width": null,
            "min_height": null,
            "min_width": null,
            "object_fit": null,
            "object_position": null,
            "order": null,
            "overflow": null,
            "overflow_x": null,
            "overflow_y": null,
            "padding": null,
            "right": null,
            "top": null,
            "visibility": null,
            "width": null
          }
        },
        "9f3194b67e614c50b07152926ed1a8c9": {
          "model_module": "@jupyter-widgets/base",
          "model_name": "LayoutModel",
          "model_module_version": "1.2.0",
          "state": {
            "_model_module": "@jupyter-widgets/base",
            "_model_module_version": "1.2.0",
            "_model_name": "LayoutModel",
            "_view_count": null,
            "_view_module": "@jupyter-widgets/base",
            "_view_module_version": "1.2.0",
            "_view_name": "LayoutView",
            "align_content": null,
            "align_items": null,
            "align_self": null,
            "border": null,
            "bottom": null,
            "display": null,
            "flex": null,
            "flex_flow": null,
            "grid_area": null,
            "grid_auto_columns": null,
            "grid_auto_flow": null,
            "grid_auto_rows": null,
            "grid_column": null,
            "grid_gap": null,
            "grid_row": null,
            "grid_template_areas": null,
            "grid_template_columns": null,
            "grid_template_rows": null,
            "height": null,
            "justify_content": null,
            "justify_items": null,
            "left": null,
            "margin": null,
            "max_height": null,
            "max_width": null,
            "min_height": null,
            "min_width": null,
            "object_fit": null,
            "object_position": null,
            "order": null,
            "overflow": null,
            "overflow_x": null,
            "overflow_y": null,
            "padding": null,
            "right": null,
            "top": null,
            "visibility": null,
            "width": null
          }
        },
        "c682a8c012a34f4b88192b00a912fee1": {
          "model_module": "@jupyter-widgets/controls",
          "model_name": "DescriptionStyleModel",
          "model_module_version": "1.5.0",
          "state": {
            "_model_module": "@jupyter-widgets/controls",
            "_model_module_version": "1.5.0",
            "_model_name": "DescriptionStyleModel",
            "_view_count": null,
            "_view_module": "@jupyter-widgets/base",
            "_view_module_version": "1.2.0",
            "_view_name": "StyleView",
            "description_width": ""
          }
        },
        "dab2d5463f7f482cadc031774a6559df": {
          "model_module": "@jupyter-widgets/base",
          "model_name": "LayoutModel",
          "model_module_version": "1.2.0",
          "state": {
            "_model_module": "@jupyter-widgets/base",
            "_model_module_version": "1.2.0",
            "_model_name": "LayoutModel",
            "_view_count": null,
            "_view_module": "@jupyter-widgets/base",
            "_view_module_version": "1.2.0",
            "_view_name": "LayoutView",
            "align_content": null,
            "align_items": null,
            "align_self": null,
            "border": null,
            "bottom": null,
            "display": null,
            "flex": null,
            "flex_flow": null,
            "grid_area": null,
            "grid_auto_columns": null,
            "grid_auto_flow": null,
            "grid_auto_rows": null,
            "grid_column": null,
            "grid_gap": null,
            "grid_row": null,
            "grid_template_areas": null,
            "grid_template_columns": null,
            "grid_template_rows": null,
            "height": null,
            "justify_content": null,
            "justify_items": null,
            "left": null,
            "margin": null,
            "max_height": null,
            "max_width": null,
            "min_height": null,
            "min_width": null,
            "object_fit": null,
            "object_position": null,
            "order": null,
            "overflow": null,
            "overflow_x": null,
            "overflow_y": null,
            "padding": null,
            "right": null,
            "top": null,
            "visibility": null,
            "width": null
          }
        },
        "9722eb2be83c402ebbb9654dfdeb66d1": {
          "model_module": "@jupyter-widgets/controls",
          "model_name": "ProgressStyleModel",
          "model_module_version": "1.5.0",
          "state": {
            "_model_module": "@jupyter-widgets/controls",
            "_model_module_version": "1.5.0",
            "_model_name": "ProgressStyleModel",
            "_view_count": null,
            "_view_module": "@jupyter-widgets/base",
            "_view_module_version": "1.2.0",
            "_view_name": "StyleView",
            "bar_color": null,
            "description_width": ""
          }
        },
        "690c1264228c4672b056a2fcd0dfe8e0": {
          "model_module": "@jupyter-widgets/base",
          "model_name": "LayoutModel",
          "model_module_version": "1.2.0",
          "state": {
            "_model_module": "@jupyter-widgets/base",
            "_model_module_version": "1.2.0",
            "_model_name": "LayoutModel",
            "_view_count": null,
            "_view_module": "@jupyter-widgets/base",
            "_view_module_version": "1.2.0",
            "_view_name": "LayoutView",
            "align_content": null,
            "align_items": null,
            "align_self": null,
            "border": null,
            "bottom": null,
            "display": null,
            "flex": null,
            "flex_flow": null,
            "grid_area": null,
            "grid_auto_columns": null,
            "grid_auto_flow": null,
            "grid_auto_rows": null,
            "grid_column": null,
            "grid_gap": null,
            "grid_row": null,
            "grid_template_areas": null,
            "grid_template_columns": null,
            "grid_template_rows": null,
            "height": null,
            "justify_content": null,
            "justify_items": null,
            "left": null,
            "margin": null,
            "max_height": null,
            "max_width": null,
            "min_height": null,
            "min_width": null,
            "object_fit": null,
            "object_position": null,
            "order": null,
            "overflow": null,
            "overflow_x": null,
            "overflow_y": null,
            "padding": null,
            "right": null,
            "top": null,
            "visibility": null,
            "width": null
          }
        },
        "bb32ad451bfb4b7db4bf14580d492aff": {
          "model_module": "@jupyter-widgets/controls",
          "model_name": "DescriptionStyleModel",
          "model_module_version": "1.5.0",
          "state": {
            "_model_module": "@jupyter-widgets/controls",
            "_model_module_version": "1.5.0",
            "_model_name": "DescriptionStyleModel",
            "_view_count": null,
            "_view_module": "@jupyter-widgets/base",
            "_view_module_version": "1.2.0",
            "_view_name": "StyleView",
            "description_width": ""
          }
        },
        "1a7ef853a0c542d5bd101329d7dcb677": {
          "model_module": "@jupyter-widgets/controls",
          "model_name": "HBoxModel",
          "model_module_version": "1.5.0",
          "state": {
            "_dom_classes": [],
            "_model_module": "@jupyter-widgets/controls",
            "_model_module_version": "1.5.0",
            "_model_name": "HBoxModel",
            "_view_count": null,
            "_view_module": "@jupyter-widgets/controls",
            "_view_module_version": "1.5.0",
            "_view_name": "HBoxView",
            "box_style": "",
            "children": [
              "IPY_MODEL_aa404246ddbc4031afcb738b56aa6d8a",
              "IPY_MODEL_4da16e5fe5b74286b2ad599cdc9ec918",
              "IPY_MODEL_405192b1798245c0a3ea140ceb37a995"
            ],
            "layout": "IPY_MODEL_7b918b1f7d75474eb8cad23dcc3326f6"
          }
        },
        "aa404246ddbc4031afcb738b56aa6d8a": {
          "model_module": "@jupyter-widgets/controls",
          "model_name": "HTMLModel",
          "model_module_version": "1.5.0",
          "state": {
            "_dom_classes": [],
            "_model_module": "@jupyter-widgets/controls",
            "_model_module_version": "1.5.0",
            "_model_name": "HTMLModel",
            "_view_count": null,
            "_view_module": "@jupyter-widgets/controls",
            "_view_module_version": "1.5.0",
            "_view_name": "HTMLView",
            "description": "",
            "description_tooltip": null,
            "layout": "IPY_MODEL_0585d987f3dd4940a85a4e07212aca1d",
            "placeholder": "​",
            "style": "IPY_MODEL_d61a9a10bb294dcabda227a32c06e334",
            "value": "Fetching 1 files: 100%"
          }
        },
        "4da16e5fe5b74286b2ad599cdc9ec918": {
          "model_module": "@jupyter-widgets/controls",
          "model_name": "FloatProgressModel",
          "model_module_version": "1.5.0",
          "state": {
            "_dom_classes": [],
            "_model_module": "@jupyter-widgets/controls",
            "_model_module_version": "1.5.0",
            "_model_name": "FloatProgressModel",
            "_view_count": null,
            "_view_module": "@jupyter-widgets/controls",
            "_view_module_version": "1.5.0",
            "_view_name": "ProgressView",
            "bar_style": "success",
            "description": "",
            "description_tooltip": null,
            "layout": "IPY_MODEL_7e2e2bbe402a4406ae8ae6e72a160507",
            "max": 1,
            "min": 0,
            "orientation": "horizontal",
            "style": "IPY_MODEL_c56f657f48914356b1ff3505dcb53aca",
            "value": 1
          }
        },
        "405192b1798245c0a3ea140ceb37a995": {
          "model_module": "@jupyter-widgets/controls",
          "model_name": "HTMLModel",
          "model_module_version": "1.5.0",
          "state": {
            "_dom_classes": [],
            "_model_module": "@jupyter-widgets/controls",
            "_model_module_version": "1.5.0",
            "_model_name": "HTMLModel",
            "_view_count": null,
            "_view_module": "@jupyter-widgets/controls",
            "_view_module_version": "1.5.0",
            "_view_name": "HTMLView",
            "description": "",
            "description_tooltip": null,
            "layout": "IPY_MODEL_d2499ccd3d884f46a5a73f44987cebef",
            "placeholder": "​",
            "style": "IPY_MODEL_fce548604996441e9db15216df6942dc",
            "value": " 1/1 [00:00&lt;00:00, 46.27it/s]"
          }
        },
        "7b918b1f7d75474eb8cad23dcc3326f6": {
          "model_module": "@jupyter-widgets/base",
          "model_name": "LayoutModel",
          "model_module_version": "1.2.0",
          "state": {
            "_model_module": "@jupyter-widgets/base",
            "_model_module_version": "1.2.0",
            "_model_name": "LayoutModel",
            "_view_count": null,
            "_view_module": "@jupyter-widgets/base",
            "_view_module_version": "1.2.0",
            "_view_name": "LayoutView",
            "align_content": null,
            "align_items": null,
            "align_self": null,
            "border": null,
            "bottom": null,
            "display": null,
            "flex": null,
            "flex_flow": null,
            "grid_area": null,
            "grid_auto_columns": null,
            "grid_auto_flow": null,
            "grid_auto_rows": null,
            "grid_column": null,
            "grid_gap": null,
            "grid_row": null,
            "grid_template_areas": null,
            "grid_template_columns": null,
            "grid_template_rows": null,
            "height": null,
            "justify_content": null,
            "justify_items": null,
            "left": null,
            "margin": null,
            "max_height": null,
            "max_width": null,
            "min_height": null,
            "min_width": null,
            "object_fit": null,
            "object_position": null,
            "order": null,
            "overflow": null,
            "overflow_x": null,
            "overflow_y": null,
            "padding": null,
            "right": null,
            "top": null,
            "visibility": null,
            "width": null
          }
        },
        "0585d987f3dd4940a85a4e07212aca1d": {
          "model_module": "@jupyter-widgets/base",
          "model_name": "LayoutModel",
          "model_module_version": "1.2.0",
          "state": {
            "_model_module": "@jupyter-widgets/base",
            "_model_module_version": "1.2.0",
            "_model_name": "LayoutModel",
            "_view_count": null,
            "_view_module": "@jupyter-widgets/base",
            "_view_module_version": "1.2.0",
            "_view_name": "LayoutView",
            "align_content": null,
            "align_items": null,
            "align_self": null,
            "border": null,
            "bottom": null,
            "display": null,
            "flex": null,
            "flex_flow": null,
            "grid_area": null,
            "grid_auto_columns": null,
            "grid_auto_flow": null,
            "grid_auto_rows": null,
            "grid_column": null,
            "grid_gap": null,
            "grid_row": null,
            "grid_template_areas": null,
            "grid_template_columns": null,
            "grid_template_rows": null,
            "height": null,
            "justify_content": null,
            "justify_items": null,
            "left": null,
            "margin": null,
            "max_height": null,
            "max_width": null,
            "min_height": null,
            "min_width": null,
            "object_fit": null,
            "object_position": null,
            "order": null,
            "overflow": null,
            "overflow_x": null,
            "overflow_y": null,
            "padding": null,
            "right": null,
            "top": null,
            "visibility": null,
            "width": null
          }
        },
        "d61a9a10bb294dcabda227a32c06e334": {
          "model_module": "@jupyter-widgets/controls",
          "model_name": "DescriptionStyleModel",
          "model_module_version": "1.5.0",
          "state": {
            "_model_module": "@jupyter-widgets/controls",
            "_model_module_version": "1.5.0",
            "_model_name": "DescriptionStyleModel",
            "_view_count": null,
            "_view_module": "@jupyter-widgets/base",
            "_view_module_version": "1.2.0",
            "_view_name": "StyleView",
            "description_width": ""
          }
        },
        "7e2e2bbe402a4406ae8ae6e72a160507": {
          "model_module": "@jupyter-widgets/base",
          "model_name": "LayoutModel",
          "model_module_version": "1.2.0",
          "state": {
            "_model_module": "@jupyter-widgets/base",
            "_model_module_version": "1.2.0",
            "_model_name": "LayoutModel",
            "_view_count": null,
            "_view_module": "@jupyter-widgets/base",
            "_view_module_version": "1.2.0",
            "_view_name": "LayoutView",
            "align_content": null,
            "align_items": null,
            "align_self": null,
            "border": null,
            "bottom": null,
            "display": null,
            "flex": null,
            "flex_flow": null,
            "grid_area": null,
            "grid_auto_columns": null,
            "grid_auto_flow": null,
            "grid_auto_rows": null,
            "grid_column": null,
            "grid_gap": null,
            "grid_row": null,
            "grid_template_areas": null,
            "grid_template_columns": null,
            "grid_template_rows": null,
            "height": null,
            "justify_content": null,
            "justify_items": null,
            "left": null,
            "margin": null,
            "max_height": null,
            "max_width": null,
            "min_height": null,
            "min_width": null,
            "object_fit": null,
            "object_position": null,
            "order": null,
            "overflow": null,
            "overflow_x": null,
            "overflow_y": null,
            "padding": null,
            "right": null,
            "top": null,
            "visibility": null,
            "width": null
          }
        },
        "c56f657f48914356b1ff3505dcb53aca": {
          "model_module": "@jupyter-widgets/controls",
          "model_name": "ProgressStyleModel",
          "model_module_version": "1.5.0",
          "state": {
            "_model_module": "@jupyter-widgets/controls",
            "_model_module_version": "1.5.0",
            "_model_name": "ProgressStyleModel",
            "_view_count": null,
            "_view_module": "@jupyter-widgets/base",
            "_view_module_version": "1.2.0",
            "_view_name": "StyleView",
            "bar_color": null,
            "description_width": ""
          }
        },
        "d2499ccd3d884f46a5a73f44987cebef": {
          "model_module": "@jupyter-widgets/base",
          "model_name": "LayoutModel",
          "model_module_version": "1.2.0",
          "state": {
            "_model_module": "@jupyter-widgets/base",
            "_model_module_version": "1.2.0",
            "_model_name": "LayoutModel",
            "_view_count": null,
            "_view_module": "@jupyter-widgets/base",
            "_view_module_version": "1.2.0",
            "_view_name": "LayoutView",
            "align_content": null,
            "align_items": null,
            "align_self": null,
            "border": null,
            "bottom": null,
            "display": null,
            "flex": null,
            "flex_flow": null,
            "grid_area": null,
            "grid_auto_columns": null,
            "grid_auto_flow": null,
            "grid_auto_rows": null,
            "grid_column": null,
            "grid_gap": null,
            "grid_row": null,
            "grid_template_areas": null,
            "grid_template_columns": null,
            "grid_template_rows": null,
            "height": null,
            "justify_content": null,
            "justify_items": null,
            "left": null,
            "margin": null,
            "max_height": null,
            "max_width": null,
            "min_height": null,
            "min_width": null,
            "object_fit": null,
            "object_position": null,
            "order": null,
            "overflow": null,
            "overflow_x": null,
            "overflow_y": null,
            "padding": null,
            "right": null,
            "top": null,
            "visibility": null,
            "width": null
          }
        },
        "fce548604996441e9db15216df6942dc": {
          "model_module": "@jupyter-widgets/controls",
          "model_name": "DescriptionStyleModel",
          "model_module_version": "1.5.0",
          "state": {
            "_model_module": "@jupyter-widgets/controls",
            "_model_module_version": "1.5.0",
            "_model_name": "DescriptionStyleModel",
            "_view_count": null,
            "_view_module": "@jupyter-widgets/base",
            "_view_module_version": "1.2.0",
            "_view_name": "StyleView",
            "description_width": ""
          }
        }
      }
    }
  },
  "cells": [
    {
      "cell_type": "markdown",
      "metadata": {
        "id": "view-in-github",
        "colab_type": "text"
      },
      "source": [
        "<a href=\"https://colab.research.google.com/github/sheikhhanif/Explore-LLM/blob/main/LLM.ipynb\" target=\"_parent\"><img src=\"https://colab.research.google.com/assets/colab-badge.svg\" alt=\"Open In Colab\"/></a>"
      ]
    },
    {
      "cell_type": "markdown",
      "source": [
        "## LLM\n",
        "An LLM or large language model is a type of artificial intelligence (AI) that can process and understand human language. It is trained on a massive amount of text data, which allows it to learn the patterns and rules of language. This enables LLMs to perform a variety of tasks, such as generating text, translating languages, writing different kinds of creative content, and answering your questions in an informative way.\n",
        "\n",
        "Papers:\n",
        "- Attention Is All You Need: https://proceedings.neurips.cc/paper_files/paper/2017/file/3f5ee243547dee91fbd053c1c4a845aa-Paper.pdf\n",
        "\n",
        "- BERT: https://arxiv.org/abs/1810.04805\n",
        "- GPT-1: https://www.mikecaptain.com/resources/pdf/GPT-1.pdf\n",
        "- LLaMA: https://arxiv.org/abs/2302.13971"
      ],
      "metadata": {
        "id": "MgVzyRrVTSGD"
      }
    },
    {
      "cell_type": "markdown",
      "source": [
        "### What are parameters\n",
        "The total number of parameters is the sum of all the weights and biases on the neural network. When calculating manually, different types of layers have different methods. The parameters on the Dense, Conv2d, or maybe LSTM layers are slightly different. The principle is the same, we only need to calculate the unit weight and bias."
      ],
      "metadata": {
        "id": "QT-yyLEfQX20"
      }
    },
    {
      "cell_type": "markdown",
      "source": [
        "### What are Tokens\n",
        "\n",
        "In natural language processing (NLP), a token is a unit of text that has been extracted from a larger body of text. This extraction process is called tokenization. The larger body of text, often a sentence or a document, is broken down into smaller units, which can be words, subwords, or characters, depending on the level of granularity required for analysis. Usually, a token consists of 4 characters.\n"
      ],
      "metadata": {
        "id": "Lxj9KwbJXPsB"
      }
    },
    {
      "cell_type": "markdown",
      "source": [
        "### What is context window?\n",
        "The context window is the portion of the input sequence that the model takes into account to make predictions for the current word. The size of the context window determines how much historical information the model considers when predicting the next word. A larger context window allows the model to capture more long-range dependencies in the text but may also increase computational complexity.\n",
        "\n",
        "For example, if you have the sentence: \"The cat sat on the mat,\" and you're predicting the next word after \"sat,\" a context window of size 2 might include the words \"The cat,\" a context window of size 3 might include \"The cat sat,\" and so on.\n",
        "\n"
      ],
      "metadata": {
        "id": "Rn1LvfPlYNvW"
      }
    },
    {
      "cell_type": "markdown",
      "source": [
        "### Applied LLM"
      ],
      "metadata": {
        "id": "eLnT92ilkeRg"
      }
    },
    {
      "cell_type": "markdown",
      "source": [
        "### Package installation"
      ],
      "metadata": {
        "id": "oGw3-Tq4kjew"
      }
    },
    {
      "cell_type": "code",
      "execution_count": null,
      "metadata": {
        "id": "o9cVPZ0SK4aD"
      },
      "outputs": [],
      "source": [
        "!pip install -q ctransformers langchain"
      ]
    },
    {
      "cell_type": "markdown",
      "source": [
        "### Loading methods"
      ],
      "metadata": {
        "id": "ZQfrgQotTRM5"
      }
    },
    {
      "cell_type": "code",
      "source": [
        "from langchain.llms import CTransformers\n",
        "from langchain import PromptTemplate, LLMChain\n",
        "from langchain.callbacks.streaming_stdout import StreamingStdOutCallbackHandler"
      ],
      "metadata": {
        "id": "RSto0EkMMYUx"
      },
      "execution_count": 6,
      "outputs": []
    },
    {
      "cell_type": "markdown",
      "source": [
        "### About LLaMA2\n",
        "Llama-2 is a 70B parameter large language model created by Meta AI. It is a factual language model, trained on a massive dataset of text and code. Llama-2 can generate different creative text formats, like poems, code, scripts, musical pieces, email, letters, etc. It will try its best to follow your instructions and complete your requests thoughtfully.\n",
        "\n",
        "5-bit quantized Llama-2 models are compressed versions of the original Llama-2 model that use less memory and are faster to run. This is done by reducing the precision of the model's parameters from 16 bits to 5 bits. This can lead to a small loss in accuracy, but it is usually not noticeable.\n",
        "\n",
        "There are several benefits to using 5-bit quantized Llama-2 models. First, they are much smaller than the original Llama-2 model. For example, the 70B parameter 5-bit quantized Llama-2 model is only 4.63 GB in size, compared to 13.5 GB for the original model. This makes it possible to run Llama-2 on devices with less memory, such as laptops and smartphones.\n",
        "\n",
        "Second, 5-bit quantized Llama-2 models are faster to run than the original model. This is because they require less computation to perform the same task. For example, the 70B parameter 5-bit quantized Llama-2 model can generate text twice as fast as the original model on a GPU.\n",
        "\n",
        "Third, 5-bit quantized Llama-2 models are more energy-efficient than the original model. This is because they require less power to run. This makes them ideal for use on mobile devices and other battery-powered devices.\n",
        "\n",
        "Overall, 5-bit quantized Llama-2 models are a good choice for users who need a smaller, faster, and more energy-efficient version of the original Llama-2 model. They are still very accurate and can be used for a variety of tasks, such as text generation, translation, and summarization."
      ],
      "metadata": {
        "id": "zYwcZUDAlQuH"
      }
    },
    {
      "cell_type": "markdown",
      "source": [
        "#### Model"
      ],
      "metadata": {
        "id": "XT8__xc6mSv4"
      }
    },
    {
      "cell_type": "markdown",
      "source": [
        "### Get started"
      ],
      "metadata": {
        "id": "DuykbSWcpTx2"
      }
    },
    {
      "cell_type": "code",
      "source": [
        "config={\"max_new_tokens\":512,\"context_length\":2048}"
      ],
      "metadata": {
        "id": "SXMqzrylMetj"
      },
      "execution_count": 15,
      "outputs": []
    },
    {
      "cell_type": "code",
      "source": [
        "llm2 = CTransformers(model=\"TheBloke/Llama-2-7B-Chat-GGML\",model_file=\"llama-2-7b-chat.ggmlv3.q5_K_M.bin\",callbacks=[StreamingStdOutCallbackHandler()],config=config)"
      ],
      "metadata": {
        "colab": {
          "base_uri": "https://localhost:8080/",
          "height": 81,
          "referenced_widgets": [
            "1ed3bcc94e53420f8bb8e5d8920e9629",
            "8afc8cc11e4c4083aa0f4cbc3dc61cbd",
            "369b32b709d443ddadb106177daf1d73",
            "8e69d621f7174a08b62a6d477d78fecf",
            "74913222ceb74a9ab8749961da95cb9f",
            "9f3194b67e614c50b07152926ed1a8c9",
            "c682a8c012a34f4b88192b00a912fee1",
            "dab2d5463f7f482cadc031774a6559df",
            "9722eb2be83c402ebbb9654dfdeb66d1",
            "690c1264228c4672b056a2fcd0dfe8e0",
            "bb32ad451bfb4b7db4bf14580d492aff",
            "1a7ef853a0c542d5bd101329d7dcb677",
            "aa404246ddbc4031afcb738b56aa6d8a",
            "4da16e5fe5b74286b2ad599cdc9ec918",
            "405192b1798245c0a3ea140ceb37a995",
            "7b918b1f7d75474eb8cad23dcc3326f6",
            "0585d987f3dd4940a85a4e07212aca1d",
            "d61a9a10bb294dcabda227a32c06e334",
            "7e2e2bbe402a4406ae8ae6e72a160507",
            "c56f657f48914356b1ff3505dcb53aca",
            "d2499ccd3d884f46a5a73f44987cebef",
            "fce548604996441e9db15216df6942dc"
          ]
        },
        "id": "XJ0fBaq8Mkp-",
        "outputId": "f5c03ef1-375b-4e21-aaba-2088c36b6694"
      },
      "execution_count": 16,
      "outputs": [
        {
          "output_type": "display_data",
          "data": {
            "text/plain": [
              "Fetching 1 files:   0%|          | 0/1 [00:00<?, ?it/s]"
            ],
            "application/vnd.jupyter.widget-view+json": {
              "version_major": 2,
              "version_minor": 0,
              "model_id": "1ed3bcc94e53420f8bb8e5d8920e9629"
            }
          },
          "metadata": {}
        },
        {
          "output_type": "display_data",
          "data": {
            "text/plain": [
              "Fetching 1 files:   0%|          | 0/1 [00:00<?, ?it/s]"
            ],
            "application/vnd.jupyter.widget-view+json": {
              "version_major": 2,
              "version_minor": 0,
              "model_id": "1a7ef853a0c542d5bd101329d7dcb677"
            }
          },
          "metadata": {}
        }
      ]
    },
    {
      "cell_type": "code",
      "source": [
        "template = \"\"\"\n",
        "[INST] <<sys>>\n",
        "Be precise with your answer.\n",
        "<</sys>>\n",
        "{text}[/INST]\n",
        "\"\"\"\n",
        "\n",
        "prompt = PromptTemplate(template= template,input_variables=[\"text\"])"
      ],
      "metadata": {
        "id": "5yNOSi1DNAdU"
      },
      "execution_count": 9,
      "outputs": []
    },
    {
      "cell_type": "code",
      "source": [
        "llmchain2 = LLMChain(prompt=prompt,llm=llm2)"
      ],
      "metadata": {
        "id": "hI9v-ghVNU-P"
      },
      "execution_count": 10,
      "outputs": []
    },
    {
      "cell_type": "code",
      "source": [
        "query = f\"\"\"\n",
        "Tell me about Retrieval augmented generation. only 2 sentences.\n",
        "\"\"\"\n",
        "\n",
        "response = llmchain2.run(query)"
      ],
      "metadata": {
        "colab": {
          "base_uri": "https://localhost:8080/"
        },
        "id": "dNVKFOInNbpg",
        "outputId": "516acb21-3454-442f-d374-67b06feb3a76"
      },
      "execution_count": 11,
      "outputs": [
        {
          "output_type": "stream",
          "name": "stdout",
          "text": [
            "Retrieval-augmented generation (RAG) is a technique in natural language processing (NLP) that combines the strengths of both retrieval and generation methods to improve the quality and coherence of generated text. RAG models use a retrieval step to select relevant information from a large knowledge base, which is then used to augment the generation process and produce more accurate and informative output."
          ]
        }
      ]
    },
    {
      "cell_type": "markdown",
      "source": [
        "### Analyze a single long document: LangChain\n",
        "The AnalyzeDocumentChain takes in a single document, splits it up, and then runs it through a CombineDocumentsChain.\n",
        "\n"
      ],
      "metadata": {
        "id": "R5F_eIkJpjQG"
      }
    },
    {
      "cell_type": "code",
      "source": [
        "from langchain.chains import AnalyzeDocumentChain\n",
        "from langchain.chains.question_answering import load_qa_chain"
      ],
      "metadata": {
        "id": "YbWqMTUJrmKP"
      },
      "execution_count": 17,
      "outputs": []
    },
    {
      "cell_type": "code",
      "source": [
        "with open(\"/content/arab-summit-gaza.txt\") as f:\n",
        "    arab_summit_gaza = f.read()"
      ],
      "metadata": {
        "id": "w-kpKlGqpqx5"
      },
      "execution_count": 18,
      "outputs": []
    },
    {
      "cell_type": "code",
      "source": [
        "qa_chain = load_qa_chain(llm2, chain_type=\"map_reduce\")\n",
        "qa_document_chain = AnalyzeDocumentChain(combine_docs_chain=qa_chain)\n",
        "qa_document_chain.run(\n",
        "    input_document=arab_summit_gaza,\n",
        "    question=\"what did the final statement call for?\",\n",
        ")"
      ],
      "metadata": {
        "id": "syH8nLjGrvke"
      },
      "execution_count": null,
      "outputs": []
    },
    {
      "cell_type": "markdown",
      "source": [
        "### References\n",
        "\n",
        "- https://www.kaggle.com/code/dristantadas/yahoo-finance-scrapper-and-use-llm-starter\n",
        "- https://python.langchain.com/cookbook"
      ],
      "metadata": {
        "id": "BzzJTnDHmjHY"
      }
    }
  ]
}